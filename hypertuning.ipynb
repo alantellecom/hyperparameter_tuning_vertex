{
 "cells": [
  {
   "cell_type": "code",
   "execution_count": 2,
   "id": "90172b55",
   "metadata": {},
   "outputs": [],
   "source": [
    "from google.cloud import aiplatform\n",
    "import time"
   ]
  },
  {
   "cell_type": "code",
   "execution_count": 34,
   "id": "97ed1c41",
   "metadata": {},
   "outputs": [],
   "source": [
    "def hyperparameter_tuning_job(\n",
    "    dataset_train_path:str,\n",
    "    dataset_validation_path: str,\n",
    "    project: str,\n",
    "    display_name: str,\n",
    "    image_uri: str,\n",
    "    #package_uri: str,\n",
    "    #python_module: str,\n",
    "    location: str = \"us-central1\",\n",
    "    api_endpoint: str = \"us-central1-aiplatform.googleapis.com\"\n",
    "):\n",
    "    # The AI Platform services require regional API endpoints.\n",
    "    client_options = {\"api_endpoint\": api_endpoint}\n",
    "    # Initialize client that will be used to create and send requests.\n",
    "    # This client only needs to be created once, and can be reused for multiple requests.\n",
    "    client = aiplatform.gapic.JobServiceClient(client_options=client_options)\n",
    "\n",
    "    # study_spec\n",
    "    metric = {\n",
    "        \"metric_id\": \"accuracy\",\n",
    "        \"goal\": aiplatform.gapic.StudySpec.MetricSpec.GoalType.MAXIMIZE,\n",
    "    }\n",
    "\n",
    "    parameter_learning_rate = {\n",
    "            \"parameter_id\": \"learning_rate\",\n",
    "            \"double_value_spec\": {\"min_value\": 1e-02, \"max_value\": 4e-02},\n",
    "            \"scale_type\": aiplatform.gapic.StudySpec.ParameterSpec.ScaleType.UNIT_LINEAR_SCALE,\n",
    "    }\n",
    "    parameter_iterations = {\n",
    "        \"parameter_id\": \"iteration\",\n",
    "        \"integer_value_spec\": {\"min_value\": 70, \"max_value\": 75},\n",
    "        \"scale_type\": aiplatform.gapic.StudySpec.ParameterSpec.ScaleType.UNIT_LINEAR_SCALE,\n",
    "    }\n",
    "\n",
    "    # trial_job_spec\n",
    "    machine_spec = {\n",
    "        \"machine_type\": \"n1-standard-4\",\n",
    "        #\"accelerator_type\": aiplatform.gapic.AcceleratorType.NVIDIA_TESLA_K80,\n",
    "        #\"accelerator_count\": 1,\n",
    "    }\n",
    "    worker_pool_spec = {\n",
    "        \"machine_spec\": machine_spec,\n",
    "        \"replica_count\": 1,\n",
    "         \"container_spec\":{\n",
    "             \"image_uri\": image_uri,\n",
    "             \"args\": ['--dataset_train_path={}'.format(dataset_train_path),'--dataset_validation_path={}'.format(dataset_validation_path)]\n",
    "         }\n",
    "        #\"python_package_spec\": {\n",
    "        #    \"executor_image_uri\": executor_image_uri,\n",
    "            #\"package_uris\": [package_uri],\n",
    "            #\"python_module\": python_module,\n",
    "           # \"args\": [],\n",
    "       # },\n",
    "    }\n",
    "\n",
    "    # hyperparameter_tuning_job\n",
    "    hyperparameter_tuning_job = {\n",
    "        \"display_name\": display_name,\n",
    "        \"max_trial_count\": 4,\n",
    "        \"parallel_trial_count\": 2,\n",
    "        \"study_spec\": {\n",
    "            \"metrics\": [metric],\n",
    "            \"parameters\": [parameter_learning_rate,parameter_iterations],\n",
    "            \"algorithm\": aiplatform.gapic.StudySpec.Algorithm.RANDOM_SEARCH,\n",
    "        },\n",
    "        \"trial_job_spec\": {\"worker_pool_specs\": [worker_pool_spec]},\n",
    "    }\n",
    "    parent = f\"projects/{project}/locations/{location}\"\n",
    "    response = client.create_hyperparameter_tuning_job(parent=parent, hyperparameter_tuning_job=hyperparameter_tuning_job)\n",
    "    hyperparameter_tuning_job_id = response.name.split('/')[-1]\n",
    "    \n",
    "    client_options = {\"api_endpoint\": api_endpoint}\n",
    "    client = aiplatform.gapic.JobServiceClient(client_options=client_options)\n",
    "    name = client.hyperparameter_tuning_job_path(\n",
    "        project=project,\n",
    "        location=location,\n",
    "        hyperparameter_tuning_job=hyperparameter_tuning_job_id,\n",
    "    )\n",
    "    \n",
    "    while(1): \n",
    "        status_val = client.get_hyperparameter_tuning_job(name=name)\n",
    "        print(status_val.state.name)\n",
    "        if (status_val.state.value == 4) | (status_val.state.value == 5) :\n",
    "            break\n",
    "        time.sleep(60)\n",
    "    \n",
    "    exp_values_list = client.get_hyperparameter_tuning_job(name=name).trials\n",
    "    exp_dic= {}\n",
    "    for x in exp_values_list:\n",
    "        exp_dic[x.id]=x.final_measurement.metrics[0].value\n",
    "        \n",
    "    best_exp_id = max(exp_dic, key=exp_dic.get)\n",
    "    \n",
    "    return exp_values_list[int(best_exp_id)-1]"
   ]
  },
  {
   "cell_type": "code",
   "execution_count": 5,
   "id": "bcdbcb59",
   "metadata": {},
   "outputs": [],
   "source": [
    "project_id = 'rugged-shell-320613'\n",
    "lab_name= 'lab-10'\n",
    "custom_image= 'gcr.io/rugged-shell-320613/hp-tuning:v5'\n",
    "location= \"us-central1\"\n",
    "api_endpoint= \"us-central1-aiplatform.googleapis.com\"\n",
    "dataset_train_path= 'gs://hp-tuning-file/train.csv'\n",
    "dataset_validation_path = 'gs://hp-tuning-file/validation.csv'"
   ]
  },
  {
   "cell_type": "code",
   "execution_count": 35,
   "id": "ca5b7fea",
   "metadata": {
    "collapsed": true,
    "jupyter": {
     "outputs_hidden": true
    }
   },
   "outputs": [
    {
     "name": "stdout",
     "output_type": "stream",
     "text": [
      "JOB_STATE_RUNNING\n",
      "JOB_STATE_RUNNING\n",
      "JOB_STATE_RUNNING\n",
      "JOB_STATE_RUNNING\n",
      "JOB_STATE_RUNNING\n",
      "JOB_STATE_RUNNING\n",
      "JOB_STATE_RUNNING\n",
      "JOB_STATE_RUNNING\n",
      "JOB_STATE_RUNNING\n",
      "JOB_STATE_RUNNING\n",
      "JOB_STATE_RUNNING\n",
      "JOB_STATE_RUNNING\n",
      "JOB_STATE_RUNNING\n",
      "JOB_STATE_RUNNING\n",
      "JOB_STATE_SUCCEEDED\n"
     ]
    },
    {
     "data": {
      "text/plain": [
       "id: \"1\"\n",
       "state: SUCCEEDED\n",
       "parameters {\n",
       "  parameter_id: \"iteration\"\n",
       "  value {\n",
       "    number_value: 75.0\n",
       "  }\n",
       "}\n",
       "parameters {\n",
       "  parameter_id: \"learning_rate\"\n",
       "  value {\n",
       "    number_value: 0.020738201729831048\n",
       "  }\n",
       "}\n",
       "final_measurement {\n",
       "  step_count: 1\n",
       "  metrics {\n",
       "    metric_id: \"accuracy\"\n",
       "    value: 1.0\n",
       "  }\n",
       "}\n",
       "start_time {\n",
       "  seconds: 1627587580\n",
       "  nanos: 900865439\n",
       "}\n",
       "end_time {\n",
       "  seconds: 1627588093\n",
       "}"
      ]
     },
     "execution_count": 35,
     "metadata": {},
     "output_type": "execute_result"
    }
   ],
   "source": [
    "job_id = hyperparameter_tuning_job(project=project_id,display_name=lab_name,\n",
    "                                   image_uri=custom_image,dataset_train_path=dataset_train_path,dataset_validation_path=dataset_validation_path)\n",
    "job_id"
   ]
  }
 ],
 "metadata": {
  "environment": {
   "name": "tf2-gpu.2-5.m75",
   "type": "gcloud",
   "uri": "gcr.io/deeplearning-platform-release/tf2-gpu.2-5:m75"
  },
  "kernelspec": {
   "display_name": "Python 3",
   "language": "python",
   "name": "python3"
  },
  "language_info": {
   "codemirror_mode": {
    "name": "ipython",
    "version": 3
   },
   "file_extension": ".py",
   "mimetype": "text/x-python",
   "name": "python",
   "nbconvert_exporter": "python",
   "pygments_lexer": "ipython3",
   "version": "3.7.10"
  }
 },
 "nbformat": 4,
 "nbformat_minor": 5
}
