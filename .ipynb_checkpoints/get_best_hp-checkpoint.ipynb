{
 "cells": [
  {
   "cell_type": "code",
   "execution_count": 4,
   "id": "c7b09280",
   "metadata": {
    "collapsed": true,
    "jupyter": {
     "outputs_hidden": true
    }
   },
   "outputs": [
    {
     "name": "stdout",
     "output_type": "stream",
     "text": [
      "Requirement already satisfied: google-cloud-aiplatform in /opt/conda/lib/python3.7/site-packages (1.1.1)\n",
      "Requirement already satisfied: google-cloud-storage<2.0.0dev,>=1.32.0 in /opt/conda/lib/python3.7/site-packages (from google-cloud-aiplatform) (1.40.0)\n",
      "Requirement already satisfied: proto-plus>=1.10.1 in /opt/conda/lib/python3.7/site-packages (from google-cloud-aiplatform) (1.19.0)\n",
      "Requirement already satisfied: google-api-core[grpc]<2.0.0dev,>=1.22.2 in /opt/conda/lib/python3.7/site-packages (from google-cloud-aiplatform) (1.30.0)\n",
      "Requirement already satisfied: google-cloud-bigquery<3.0.0dev,>=1.15.0 in /opt/conda/lib/python3.7/site-packages (from google-cloud-aiplatform) (2.20.0)\n",
      "Requirement already satisfied: packaging>=14.3 in /opt/conda/lib/python3.7/site-packages (from google-cloud-aiplatform) (21.0)\n",
      "Requirement already satisfied: googleapis-common-protos<2.0dev,>=1.6.0 in /opt/conda/lib/python3.7/site-packages (from google-api-core[grpc]<2.0.0dev,>=1.22.2->google-cloud-aiplatform) (1.53.0)\n",
      "Requirement already satisfied: six>=1.13.0 in /opt/conda/lib/python3.7/site-packages (from google-api-core[grpc]<2.0.0dev,>=1.22.2->google-cloud-aiplatform) (1.16.0)\n",
      "Requirement already satisfied: requests<3.0.0dev,>=2.18.0 in /opt/conda/lib/python3.7/site-packages (from google-api-core[grpc]<2.0.0dev,>=1.22.2->google-cloud-aiplatform) (2.25.1)\n",
      "Requirement already satisfied: protobuf>=3.12.0 in /opt/conda/lib/python3.7/site-packages (from google-api-core[grpc]<2.0.0dev,>=1.22.2->google-cloud-aiplatform) (3.16.0)\n",
      "Requirement already satisfied: setuptools>=40.3.0 in /opt/conda/lib/python3.7/site-packages (from google-api-core[grpc]<2.0.0dev,>=1.22.2->google-cloud-aiplatform) (49.6.0.post20210108)\n",
      "Requirement already satisfied: google-auth<2.0dev,>=1.25.0 in /opt/conda/lib/python3.7/site-packages (from google-api-core[grpc]<2.0.0dev,>=1.22.2->google-cloud-aiplatform) (1.32.1)\n",
      "Requirement already satisfied: pytz in /opt/conda/lib/python3.7/site-packages (from google-api-core[grpc]<2.0.0dev,>=1.22.2->google-cloud-aiplatform) (2021.1)\n",
      "Requirement already satisfied: grpcio<2.0dev,>=1.29.0 in /opt/conda/lib/python3.7/site-packages (from google-api-core[grpc]<2.0.0dev,>=1.22.2->google-cloud-aiplatform) (1.38.1)\n",
      "Requirement already satisfied: rsa<5,>=3.1.4 in /opt/conda/lib/python3.7/site-packages (from google-auth<2.0dev,>=1.25.0->google-api-core[grpc]<2.0.0dev,>=1.22.2->google-cloud-aiplatform) (4.7.2)\n",
      "Requirement already satisfied: cachetools<5.0,>=2.0.0 in /opt/conda/lib/python3.7/site-packages (from google-auth<2.0dev,>=1.25.0->google-api-core[grpc]<2.0.0dev,>=1.22.2->google-cloud-aiplatform) (4.2.2)\n",
      "Requirement already satisfied: pyasn1-modules>=0.2.1 in /opt/conda/lib/python3.7/site-packages (from google-auth<2.0dev,>=1.25.0->google-api-core[grpc]<2.0.0dev,>=1.22.2->google-cloud-aiplatform) (0.2.7)\n",
      "Requirement already satisfied: google-cloud-core<2.0dev,>=1.4.1 in /opt/conda/lib/python3.7/site-packages (from google-cloud-bigquery<3.0.0dev,>=1.15.0->google-cloud-aiplatform) (1.7.1)\n",
      "Requirement already satisfied: google-resumable-media<2.0dev,>=0.6.0 in /opt/conda/lib/python3.7/site-packages (from google-cloud-bigquery<3.0.0dev,>=1.15.0->google-cloud-aiplatform) (1.3.1)\n",
      "Requirement already satisfied: google-crc32c<2.0dev,>=1.0 in /opt/conda/lib/python3.7/site-packages (from google-resumable-media<2.0dev,>=0.6.0->google-cloud-bigquery<3.0.0dev,>=1.15.0->google-cloud-aiplatform) (1.1.2)\n",
      "Requirement already satisfied: cffi>=1.0.0 in /opt/conda/lib/python3.7/site-packages (from google-crc32c<2.0dev,>=1.0->google-resumable-media<2.0dev,>=0.6.0->google-cloud-bigquery<3.0.0dev,>=1.15.0->google-cloud-aiplatform) (1.14.6)\n",
      "Requirement already satisfied: pycparser in /opt/conda/lib/python3.7/site-packages (from cffi>=1.0.0->google-crc32c<2.0dev,>=1.0->google-resumable-media<2.0dev,>=0.6.0->google-cloud-bigquery<3.0.0dev,>=1.15.0->google-cloud-aiplatform) (2.20)\n",
      "Requirement already satisfied: pyparsing>=2.0.2 in /opt/conda/lib/python3.7/site-packages (from packaging>=14.3->google-cloud-aiplatform) (2.4.7)\n",
      "Requirement already satisfied: pyasn1<0.5.0,>=0.4.6 in /opt/conda/lib/python3.7/site-packages (from pyasn1-modules>=0.2.1->google-auth<2.0dev,>=1.25.0->google-api-core[grpc]<2.0.0dev,>=1.22.2->google-cloud-aiplatform) (0.4.8)\n",
      "Requirement already satisfied: urllib3<1.27,>=1.21.1 in /opt/conda/lib/python3.7/site-packages (from requests<3.0.0dev,>=2.18.0->google-api-core[grpc]<2.0.0dev,>=1.22.2->google-cloud-aiplatform) (1.26.6)\n",
      "Requirement already satisfied: certifi>=2017.4.17 in /opt/conda/lib/python3.7/site-packages (from requests<3.0.0dev,>=2.18.0->google-api-core[grpc]<2.0.0dev,>=1.22.2->google-cloud-aiplatform) (2021.5.30)\n",
      "Requirement already satisfied: idna<3,>=2.5 in /opt/conda/lib/python3.7/site-packages (from requests<3.0.0dev,>=2.18.0->google-api-core[grpc]<2.0.0dev,>=1.22.2->google-cloud-aiplatform) (2.10)\n",
      "Requirement already satisfied: chardet<5,>=3.0.2 in /opt/conda/lib/python3.7/site-packages (from requests<3.0.0dev,>=2.18.0->google-api-core[grpc]<2.0.0dev,>=1.22.2->google-cloud-aiplatform) (4.0.0)\n"
     ]
    }
   ],
   "source": [
    "!pip install google-cloud-aiplatform\n"
   ]
  },
  {
   "cell_type": "code",
   "execution_count": 2,
   "id": "94f20155",
   "metadata": {},
   "outputs": [],
   "source": [
    "from google.cloud import aiplatform\n",
    "import subprocess\n",
    "import yaml"
   ]
  },
  {
   "cell_type": "code",
   "execution_count": 3,
   "id": "e780d74e",
   "metadata": {},
   "outputs": [],
   "source": [
    "def get_hyperparameter_tuning_job_sample(\n",
    "    project: str,\n",
    "    hyperparameter_tuning_job_id: str,\n",
    "    location: str = \"us-central1\",\n",
    "    api_endpoint: str = \"us-central1-aiplatform.googleapis.com\",\n",
    "):\n",
    "    # The AI Platform services require regional API endpoints.\n",
    "    client_options = {\"api_endpoint\": api_endpoint}\n",
    "    # Initialize client that will be used to create and send requests.\n",
    "    # This client only needs to be created once, and can be reused for multiple requests.\n",
    "    client = aiplatform.gapic.JobServiceClient(client_options=client_options)\n",
    "    name = client.hyperparameter_tuning_job_path(\n",
    "        project=project,\n",
    "        location=location,\n",
    "        hyperparameter_tuning_job=hyperparameter_tuning_job_id,\n",
    "    )\n",
    "    return client.get_hyperparameter_tuning_job(name=name)"
   ]
  },
  {
   "cell_type": "code",
   "execution_count": 14,
   "id": "71a16a94",
   "metadata": {},
   "outputs": [],
   "source": [
    "project_id = 'rugged-shell-320613'\n",
    "region = 'us-central1'\n",
    "lab_name= 'lab-5'"
   ]
  },
  {
   "cell_type": "code",
   "execution_count": 5,
   "id": "599c4dc1",
   "metadata": {},
   "outputs": [
    {
     "data": {
      "text/plain": [
       "'projects/383073583641/locations/us-central1/hyperparameterTuningJobs/6060706004394311680\\n'"
      ]
     },
     "execution_count": 5,
     "metadata": {},
     "output_type": "execute_result"
    }
   ],
   "source": [
    "result = subprocess.run(['gcloud', 'beta' , 'ai', 'hp-tuning-jobs', 'list', '--project', \n",
    "                         project_id, '--region', region,'--filter','displayName:{}'.format(lab_name),\n",
    "                         '--format','value(name)'],capture_output=True).stdout.decode(\"utf-8\")\n",
    "result"
   ]
  },
  {
   "cell_type": "code",
   "execution_count": 6,
   "id": "258f5bfd",
   "metadata": {},
   "outputs": [
    {
     "data": {
      "text/plain": [
       "'6060706004394311680'"
      ]
     },
     "execution_count": 6,
     "metadata": {},
     "output_type": "execute_result"
    }
   ],
   "source": [
    "hp_job_id=result.replace('\\n','').split('/')[-1]\n",
    "hp_job_id"
   ]
  },
  {
   "cell_type": "code",
   "execution_count": 11,
   "id": "67bf3354",
   "metadata": {
    "collapsed": true,
    "jupyter": {
     "outputs_hidden": true
    }
   },
   "outputs": [
    {
     "data": {
      "text/plain": [
       "name: \"projects/383073583641/locations/us-central1/hyperparameterTuningJobs/6060706004394311680\"\n",
       "display_name: \"lab-1\"\n",
       "study_spec {\n",
       "  metrics {\n",
       "    metric_id: \"accuracy\"\n",
       "    goal: MAXIMIZE\n",
       "  }\n",
       "  parameters {\n",
       "    parameter_id: \"learning_rate\"\n",
       "    double_value_spec {\n",
       "      min_value: 0.01\n",
       "      max_value: 0.03\n",
       "    }\n",
       "    scale_type: UNIT_LINEAR_SCALE\n",
       "  }\n",
       "}\n",
       "max_trial_count: 4\n",
       "parallel_trial_count: 2\n",
       "trial_job_spec {\n",
       "  worker_pool_specs {\n",
       "    machine_spec {\n",
       "      machine_type: \"n1-standard-4\"\n",
       "    }\n",
       "    replica_count: 1\n",
       "    disk_spec {\n",
       "      boot_disk_type: \"pd-ssd\"\n",
       "      boot_disk_size_gb: 100\n",
       "    }\n",
       "    python_package_spec {\n",
       "      executor_image_uri: \"us-docker.pkg.dev/vertex-ai/training/scikit-learn-cpu.0-23:latest\"\n",
       "      package_uris: \"gs://hp-tuning-file/trainer-0.1.tar.gz\"\n",
       "      python_module: \"trainer.task\"\n",
       "    }\n",
       "  }\n",
       "}\n",
       "trials {\n",
       "  id: \"1\"\n",
       "  state: SUCCEEDED\n",
       "  parameters {\n",
       "    parameter_id: \"learning_rate\"\n",
       "    value {\n",
       "      number_value: 0.019999999999999997\n",
       "    }\n",
       "  }\n",
       "  final_measurement {\n",
       "    step_count: 1\n",
       "    metrics {\n",
       "      metric_id: \"accuracy\"\n",
       "      value: 1.0\n",
       "    }\n",
       "  }\n",
       "  start_time {\n",
       "    seconds: 1627052642\n",
       "    nanos: 378442465\n",
       "  }\n",
       "  end_time {\n",
       "    seconds: 1627052672\n",
       "  }\n",
       "}\n",
       "trials {\n",
       "  id: \"2\"\n",
       "  state: SUCCEEDED\n",
       "  parameters {\n",
       "    parameter_id: \"learning_rate\"\n",
       "    value {\n",
       "      number_value: 0.015430130926002966\n",
       "    }\n",
       "  }\n",
       "  final_measurement {\n",
       "    step_count: 1\n",
       "    metrics {\n",
       "      metric_id: \"accuracy\"\n",
       "      value: 1.0\n",
       "    }\n",
       "  }\n",
       "  start_time {\n",
       "    seconds: 1627052642\n",
       "    nanos: 378678188\n",
       "  }\n",
       "  end_time {\n",
       "    seconds: 1627052672\n",
       "  }\n",
       "}\n",
       "trials {\n",
       "  id: \"3\"\n",
       "  state: SUCCEEDED\n",
       "  parameters {\n",
       "    parameter_id: \"learning_rate\"\n",
       "    value {\n",
       "      number_value: 0.025087602818040473\n",
       "    }\n",
       "  }\n",
       "  final_measurement {\n",
       "    step_count: 1\n",
       "    metrics {\n",
       "      metric_id: \"accuracy\"\n",
       "      value: 0.9333333333333333\n",
       "    }\n",
       "  }\n",
       "  start_time {\n",
       "    seconds: 1627052782\n",
       "    nanos: 812262526\n",
       "  }\n",
       "  end_time {\n",
       "    seconds: 1627053240\n",
       "  }\n",
       "}\n",
       "trials {\n",
       "  id: \"4\"\n",
       "  state: SUCCEEDED\n",
       "  parameters {\n",
       "    parameter_id: \"learning_rate\"\n",
       "    value {\n",
       "      number_value: 0.01\n",
       "    }\n",
       "  }\n",
       "  final_measurement {\n",
       "    step_count: 1\n",
       "    metrics {\n",
       "      metric_id: \"accuracy\"\n",
       "      value: 0.8666666666666667\n",
       "    }\n",
       "  }\n",
       "  start_time {\n",
       "    seconds: 1627052784\n",
       "    nanos: 423145012\n",
       "  }\n",
       "  end_time {\n",
       "    seconds: 1627052815\n",
       "  }\n",
       "}\n",
       "state: JOB_STATE_SUCCEEDED\n",
       "create_time {\n",
       "  seconds: 1627052634\n",
       "  nanos: 331597000\n",
       "}\n",
       "start_time {\n",
       "  seconds: 1627052637\n",
       "}\n",
       "end_time {\n",
       "  seconds: 1627053365\n",
       "}\n",
       "update_time {\n",
       "  seconds: 1627053369\n",
       "  nanos: 927944000\n",
       "}"
      ]
     },
     "execution_count": 11,
     "metadata": {},
     "output_type": "execute_result"
    }
   ],
   "source": [
    "get_hyperparameter_tuning_job_sample(project_id,hp_job_id)"
   ]
  },
  {
   "cell_type": "code",
   "execution_count": 19,
   "id": "f3d09ce5",
   "metadata": {},
   "outputs": [
    {
     "data": {
      "text/plain": [
       "0.019999999999999997"
      ]
     },
     "execution_count": 19,
     "metadata": {},
     "output_type": "execute_result"
    }
   ],
   "source": [
    "hp_list=get_hyperparameter_tuning_job_sample(project_id,hp_job_id)\n",
    "learning_rate= hp_list.trials[0].parameters[0].value\n",
    "learning_rate"
   ]
  },
  {
   "cell_type": "code",
   "execution_count": null,
   "id": "47ff4659",
   "metadata": {},
   "outputs": [],
   "source": []
  }
 ],
 "metadata": {
  "environment": {
   "name": "tf2-gpu.2-5.m75",
   "type": "gcloud",
   "uri": "gcr.io/deeplearning-platform-release/tf2-gpu.2-5:m75"
  },
  "kernelspec": {
   "display_name": "Python 3",
   "language": "python",
   "name": "python3"
  },
  "language_info": {
   "codemirror_mode": {
    "name": "ipython",
    "version": 3
   },
   "file_extension": ".py",
   "mimetype": "text/x-python",
   "name": "python",
   "nbconvert_exporter": "python",
   "pygments_lexer": "ipython3",
   "version": "3.7.10"
  }
 },
 "nbformat": 4,
 "nbformat_minor": 5
}
